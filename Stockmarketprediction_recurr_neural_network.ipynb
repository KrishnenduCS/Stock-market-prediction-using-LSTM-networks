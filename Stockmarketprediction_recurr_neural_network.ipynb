{
 "cells": [
  {
   "cell_type": "code",
   "execution_count": 1,
   "metadata": {
    "id": "13ck1_h6A4iP"
   },
   "outputs": [],
   "source": [
    "# Description: This program uses an artificial recurrent neural network called Long Short Term Memory (LSTM) \n",
    "#to predict the closing stock price of a corporation (Apple Inc.) using the past 60 day stock price."
   ]
  },
  {
   "cell_type": "code",
   "execution_count": 2,
   "metadata": {},
   "outputs": [
    {
     "name": "stdout",
     "output_type": "stream",
     "text": [
      "Collecting pandas-datareader\n",
      "  Downloading pandas_datareader-0.9.0-py3-none-any.whl (107 kB)\n",
      "Requirement already satisfied: pandas>=0.23 in c:\\users\\user\\appdata\\local\\programs\\python\\python37\\lib\\site-packages (from pandas-datareader) (1.1.4)\n",
      "Requirement already satisfied: requests>=2.19.0 in c:\\users\\user\\appdata\\local\\programs\\python\\python37\\lib\\site-packages (from pandas-datareader) (2.24.0)\n",
      "Requirement already satisfied: lxml in c:\\users\\user\\appdata\\local\\programs\\python\\python37\\lib\\site-packages (from pandas-datareader) (4.6.2)\n",
      "Requirement already satisfied: python-dateutil>=2.7.3 in c:\\users\\user\\appdata\\local\\programs\\python\\python37\\lib\\site-packages (from pandas>=0.23->pandas-datareader) (2.8.0)\n",
      "Requirement already satisfied: numpy>=1.15.4 in c:\\users\\user\\appdata\\local\\programs\\python\\python37\\lib\\site-packages (from pandas>=0.23->pandas-datareader) (1.19.3)\n",
      "Requirement already satisfied: pytz>=2017.2 in c:\\users\\user\\appdata\\local\\programs\\python\\python37\\lib\\site-packages (from pandas>=0.23->pandas-datareader) (2019.2)\n",
      "Requirement already satisfied: six>=1.5 in c:\\users\\user\\appdata\\local\\programs\\python\\python37\\lib\\site-packages (from python-dateutil>=2.7.3->pandas>=0.23->pandas-datareader) (1.12.0)\n",
      "Requirement already satisfied: urllib3!=1.25.0,!=1.25.1,<1.26,>=1.21.1 in c:\\users\\user\\appdata\\local\\programs\\python\\python37\\lib\\site-packages (from requests>=2.19.0->pandas-datareader) (1.25.10)\n",
      "Requirement already satisfied: idna<3,>=2.5 in c:\\users\\user\\appdata\\local\\programs\\python\\python37\\lib\\site-packages (from requests>=2.19.0->pandas-datareader) (2.10)\n",
      "Requirement already satisfied: chardet<4,>=3.0.2 in c:\\users\\user\\appdata\\local\\programs\\python\\python37\\lib\\site-packages (from requests>=2.19.0->pandas-datareader) (3.0.4)\n",
      "Requirement already satisfied: certifi>=2017.4.17 in c:\\users\\user\\appdata\\local\\programs\\python\\python37\\lib\\site-packages (from requests>=2.19.0->pandas-datareader) (2020.6.20)\n",
      "Installing collected packages: pandas-datareader\n",
      "Successfully installed pandas-datareader-0.9.0\n"
     ]
    }
   ],
   "source": [
    "!pip install pandas-datareader"
   ]
  },
  {
   "cell_type": "code",
   "execution_count": 3,
   "metadata": {
    "id": "mt3ZORUWA_8n"
   },
   "outputs": [
    {
     "name": "stderr",
     "output_type": "stream",
     "text": [
      "Using TensorFlow backend.\n",
      "c:\\users\\user\\appdata\\local\\programs\\python\\python37\\lib\\site-packages\\tensorflow\\python\\framework\\dtypes.py:516: FutureWarning: Passing (type, 1) or '1type' as a synonym of type is deprecated; in a future version of numpy, it will be understood as (type, (1,)) / '(1,)type'.\n",
      "  _np_qint8 = np.dtype([(\"qint8\", np.int8, 1)])\n",
      "c:\\users\\user\\appdata\\local\\programs\\python\\python37\\lib\\site-packages\\tensorflow\\python\\framework\\dtypes.py:517: FutureWarning: Passing (type, 1) or '1type' as a synonym of type is deprecated; in a future version of numpy, it will be understood as (type, (1,)) / '(1,)type'.\n",
      "  _np_quint8 = np.dtype([(\"quint8\", np.uint8, 1)])\n",
      "c:\\users\\user\\appdata\\local\\programs\\python\\python37\\lib\\site-packages\\tensorflow\\python\\framework\\dtypes.py:518: FutureWarning: Passing (type, 1) or '1type' as a synonym of type is deprecated; in a future version of numpy, it will be understood as (type, (1,)) / '(1,)type'.\n",
      "  _np_qint16 = np.dtype([(\"qint16\", np.int16, 1)])\n",
      "c:\\users\\user\\appdata\\local\\programs\\python\\python37\\lib\\site-packages\\tensorflow\\python\\framework\\dtypes.py:519: FutureWarning: Passing (type, 1) or '1type' as a synonym of type is deprecated; in a future version of numpy, it will be understood as (type, (1,)) / '(1,)type'.\n",
      "  _np_quint16 = np.dtype([(\"quint16\", np.uint16, 1)])\n",
      "c:\\users\\user\\appdata\\local\\programs\\python\\python37\\lib\\site-packages\\tensorflow\\python\\framework\\dtypes.py:520: FutureWarning: Passing (type, 1) or '1type' as a synonym of type is deprecated; in a future version of numpy, it will be understood as (type, (1,)) / '(1,)type'.\n",
      "  _np_qint32 = np.dtype([(\"qint32\", np.int32, 1)])\n",
      "c:\\users\\user\\appdata\\local\\programs\\python\\python37\\lib\\site-packages\\tensorflow\\python\\framework\\dtypes.py:525: FutureWarning: Passing (type, 1) or '1type' as a synonym of type is deprecated; in a future version of numpy, it will be understood as (type, (1,)) / '(1,)type'.\n",
      "  np_resource = np.dtype([(\"resource\", np.ubyte, 1)])\n",
      "c:\\users\\user\\appdata\\local\\programs\\python\\python37\\lib\\site-packages\\tensorboard\\compat\\tensorflow_stub\\dtypes.py:541: FutureWarning: Passing (type, 1) or '1type' as a synonym of type is deprecated; in a future version of numpy, it will be understood as (type, (1,)) / '(1,)type'.\n",
      "  _np_qint8 = np.dtype([(\"qint8\", np.int8, 1)])\n",
      "c:\\users\\user\\appdata\\local\\programs\\python\\python37\\lib\\site-packages\\tensorboard\\compat\\tensorflow_stub\\dtypes.py:542: FutureWarning: Passing (type, 1) or '1type' as a synonym of type is deprecated; in a future version of numpy, it will be understood as (type, (1,)) / '(1,)type'.\n",
      "  _np_quint8 = np.dtype([(\"quint8\", np.uint8, 1)])\n",
      "c:\\users\\user\\appdata\\local\\programs\\python\\python37\\lib\\site-packages\\tensorboard\\compat\\tensorflow_stub\\dtypes.py:543: FutureWarning: Passing (type, 1) or '1type' as a synonym of type is deprecated; in a future version of numpy, it will be understood as (type, (1,)) / '(1,)type'.\n",
      "  _np_qint16 = np.dtype([(\"qint16\", np.int16, 1)])\n",
      "c:\\users\\user\\appdata\\local\\programs\\python\\python37\\lib\\site-packages\\tensorboard\\compat\\tensorflow_stub\\dtypes.py:544: FutureWarning: Passing (type, 1) or '1type' as a synonym of type is deprecated; in a future version of numpy, it will be understood as (type, (1,)) / '(1,)type'.\n",
      "  _np_quint16 = np.dtype([(\"quint16\", np.uint16, 1)])\n",
      "c:\\users\\user\\appdata\\local\\programs\\python\\python37\\lib\\site-packages\\tensorboard\\compat\\tensorflow_stub\\dtypes.py:545: FutureWarning: Passing (type, 1) or '1type' as a synonym of type is deprecated; in a future version of numpy, it will be understood as (type, (1,)) / '(1,)type'.\n",
      "  _np_qint32 = np.dtype([(\"qint32\", np.int32, 1)])\n",
      "c:\\users\\user\\appdata\\local\\programs\\python\\python37\\lib\\site-packages\\tensorboard\\compat\\tensorflow_stub\\dtypes.py:550: FutureWarning: Passing (type, 1) or '1type' as a synonym of type is deprecated; in a future version of numpy, it will be understood as (type, (1,)) / '(1,)type'.\n",
      "  np_resource = np.dtype([(\"resource\", np.ubyte, 1)])\n"
     ]
    }
   ],
   "source": [
    "#Import the libraries\n",
    "import math\n",
    "import pandas_datareader as web\n",
    "import numpy as np\n",
    "import pandas as pd\n",
    "from sklearn.preprocessing import MinMaxScaler\n",
    "from keras.models import Sequential\n",
    "from keras.layers import Dense, LSTM\n",
    "import matplotlib.pyplot as plt\n",
    "plt.style.use('fivethirtyeight')"
   ]
  },
  {
   "cell_type": "code",
   "execution_count": 29,
   "metadata": {
    "id": "Qx5wMXAjBDNf"
   },
   "outputs": [
    {
     "data": {
      "text/html": [
       "<div>\n",
       "<style scoped>\n",
       "    .dataframe tbody tr th:only-of-type {\n",
       "        vertical-align: middle;\n",
       "    }\n",
       "\n",
       "    .dataframe tbody tr th {\n",
       "        vertical-align: top;\n",
       "    }\n",
       "\n",
       "    .dataframe thead th {\n",
       "        text-align: right;\n",
       "    }\n",
       "</style>\n",
       "<table border=\"1\" class=\"dataframe\">\n",
       "  <thead>\n",
       "    <tr style=\"text-align: right;\">\n",
       "      <th></th>\n",
       "      <th>High</th>\n",
       "      <th>Low</th>\n",
       "      <th>Open</th>\n",
       "      <th>Close</th>\n",
       "      <th>Volume</th>\n",
       "      <th>Adj Close</th>\n",
       "    </tr>\n",
       "    <tr>\n",
       "      <th>Date</th>\n",
       "      <th></th>\n",
       "      <th></th>\n",
       "      <th></th>\n",
       "      <th></th>\n",
       "      <th></th>\n",
       "      <th></th>\n",
       "    </tr>\n",
       "  </thead>\n",
       "  <tbody>\n",
       "    <tr>\n",
       "      <th>2012-01-03</th>\n",
       "      <td>14.732143</td>\n",
       "      <td>14.607143</td>\n",
       "      <td>14.621429</td>\n",
       "      <td>14.686786</td>\n",
       "      <td>302220800.0</td>\n",
       "      <td>12.669562</td>\n",
       "    </tr>\n",
       "    <tr>\n",
       "      <th>2012-01-04</th>\n",
       "      <td>14.810000</td>\n",
       "      <td>14.617143</td>\n",
       "      <td>14.642857</td>\n",
       "      <td>14.765714</td>\n",
       "      <td>260022000.0</td>\n",
       "      <td>12.737653</td>\n",
       "    </tr>\n",
       "    <tr>\n",
       "      <th>2012-01-05</th>\n",
       "      <td>14.948214</td>\n",
       "      <td>14.738214</td>\n",
       "      <td>14.819643</td>\n",
       "      <td>14.929643</td>\n",
       "      <td>271269600.0</td>\n",
       "      <td>12.879066</td>\n",
       "    </tr>\n",
       "    <tr>\n",
       "      <th>2012-01-06</th>\n",
       "      <td>15.098214</td>\n",
       "      <td>14.972143</td>\n",
       "      <td>14.991786</td>\n",
       "      <td>15.085714</td>\n",
       "      <td>318292800.0</td>\n",
       "      <td>13.013701</td>\n",
       "    </tr>\n",
       "    <tr>\n",
       "      <th>2012-01-09</th>\n",
       "      <td>15.276786</td>\n",
       "      <td>15.048214</td>\n",
       "      <td>15.196429</td>\n",
       "      <td>15.061786</td>\n",
       "      <td>394024400.0</td>\n",
       "      <td>12.993060</td>\n",
       "    </tr>\n",
       "    <tr>\n",
       "      <th>...</th>\n",
       "      <td>...</td>\n",
       "      <td>...</td>\n",
       "      <td>...</td>\n",
       "      <td>...</td>\n",
       "      <td>...</td>\n",
       "      <td>...</td>\n",
       "    </tr>\n",
       "    <tr>\n",
       "      <th>2019-12-11</th>\n",
       "      <td>67.775002</td>\n",
       "      <td>67.125000</td>\n",
       "      <td>67.202499</td>\n",
       "      <td>67.692497</td>\n",
       "      <td>78756800.0</td>\n",
       "      <td>67.112915</td>\n",
       "    </tr>\n",
       "    <tr>\n",
       "      <th>2019-12-12</th>\n",
       "      <td>68.139999</td>\n",
       "      <td>66.830002</td>\n",
       "      <td>66.945000</td>\n",
       "      <td>67.864998</td>\n",
       "      <td>137310400.0</td>\n",
       "      <td>67.283928</td>\n",
       "    </tr>\n",
       "    <tr>\n",
       "      <th>2019-12-13</th>\n",
       "      <td>68.824997</td>\n",
       "      <td>67.732498</td>\n",
       "      <td>67.864998</td>\n",
       "      <td>68.787498</td>\n",
       "      <td>133587600.0</td>\n",
       "      <td>68.198540</td>\n",
       "    </tr>\n",
       "    <tr>\n",
       "      <th>2019-12-16</th>\n",
       "      <td>70.197502</td>\n",
       "      <td>69.245003</td>\n",
       "      <td>69.250000</td>\n",
       "      <td>69.964996</td>\n",
       "      <td>128186000.0</td>\n",
       "      <td>69.365952</td>\n",
       "    </tr>\n",
       "    <tr>\n",
       "      <th>2019-12-17</th>\n",
       "      <td>70.442497</td>\n",
       "      <td>69.699997</td>\n",
       "      <td>69.892502</td>\n",
       "      <td>70.102501</td>\n",
       "      <td>114158400.0</td>\n",
       "      <td>69.502274</td>\n",
       "    </tr>\n",
       "  </tbody>\n",
       "</table>\n",
       "<p>2003 rows × 6 columns</p>\n",
       "</div>"
      ],
      "text/plain": [
       "                 High        Low       Open      Close       Volume  Adj Close\n",
       "Date                                                                          \n",
       "2012-01-03  14.732143  14.607143  14.621429  14.686786  302220800.0  12.669562\n",
       "2012-01-04  14.810000  14.617143  14.642857  14.765714  260022000.0  12.737653\n",
       "2012-01-05  14.948214  14.738214  14.819643  14.929643  271269600.0  12.879066\n",
       "2012-01-06  15.098214  14.972143  14.991786  15.085714  318292800.0  13.013701\n",
       "2012-01-09  15.276786  15.048214  15.196429  15.061786  394024400.0  12.993060\n",
       "...               ...        ...        ...        ...          ...        ...\n",
       "2019-12-11  67.775002  67.125000  67.202499  67.692497   78756800.0  67.112915\n",
       "2019-12-12  68.139999  66.830002  66.945000  67.864998  137310400.0  67.283928\n",
       "2019-12-13  68.824997  67.732498  67.864998  68.787498  133587600.0  68.198540\n",
       "2019-12-16  70.197502  69.245003  69.250000  69.964996  128186000.0  69.365952\n",
       "2019-12-17  70.442497  69.699997  69.892502  70.102501  114158400.0  69.502274\n",
       "\n",
       "[2003 rows x 6 columns]"
      ]
     },
     "execution_count": 29,
     "metadata": {},
     "output_type": "execute_result"
    }
   ],
   "source": [
    "#Get the stock quote \n",
    "df = web.DataReader('AAPL', data_source='yahoo', start='2012-01-01', end='2019-12-17') \n",
    "#Show the data \n",
    "df"
   ]
  },
  {
   "cell_type": "code",
   "execution_count": 30,
   "metadata": {
    "id": "-IBmKQqTBFq-"
   },
   "outputs": [
    {
     "data": {
      "text/plain": [
       "(2003, 6)"
      ]
     },
     "execution_count": 30,
     "metadata": {},
     "output_type": "execute_result"
    }
   ],
   "source": [
    "df.shape"
   ]
  },
  {
   "cell_type": "code",
   "execution_count": 31,
   "metadata": {
    "id": "fHBwwjdFBH2n"
   },
   "outputs": [
    {
     "data": {
      "image/png": "[encoded data removed]",
      "text/plain": [
       "<Figure size 1152x576 with 1 Axes>"
      ]
     },
     "metadata": {},
     "output_type": "display_data"
    }
   ],
   "source": [
    "#Visualize the closing price history\n",
    "plt.figure(figsize=(16,8))\n",
    "plt.title('Close Price History')\n",
    "plt.plot(df['Close'])\n",
    "plt.xlabel('Date',fontsize=18)\n",
    "plt.ylabel('Close Price USD ($)',fontsize=18)\n",
    "plt.show()"
   ]
  },
  {
   "cell_type": "code",
   "execution_count": 32,
   "metadata": {
    "id": "UAaFpDdTBJ2G"
   },
   "outputs": [],
   "source": [
    "#Create a new dataframe with only the 'Close' column\n",
    "data = df.filter(['Close'])\n",
    "#Converting the dataframe to a numpy array\n",
    "dataset = data.values\n",
    "#Get /Compute the number of rows to train the model on\n",
    "training_data_len = math.ceil( len(dataset) *.8) "
   ]
  },
  {
   "cell_type": "code",
   "execution_count": 33,
   "metadata": {},
   "outputs": [
    {
     "data": {
      "text/plain": [
       "array([[14.6867857 ],\n",
       "       [14.76571369],\n",
       "       [14.92964268],\n",
       "       ...,\n",
       "       [68.78749847],\n",
       "       [69.96499634],\n",
       "       [70.10250092]])"
      ]
     },
     "execution_count": 33,
     "metadata": {},
     "output_type": "execute_result"
    }
   ],
   "source": [
    "dataset"
   ]
  },
  {
   "cell_type": "code",
   "execution_count": 34,
   "metadata": {
    "id": "sY-atdwjBMZ4"
   },
   "outputs": [],
   "source": [
    "#Scale the all of the data to be values between 0 and 1 \n",
    "scaler = MinMaxScaler(feature_range=(0, 1)) \n",
    "scaled_data = scaler.fit_transform(dataset)\n"
   ]
  },
  {
   "cell_type": "code",
   "execution_count": 35,
   "metadata": {},
   "outputs": [
    {
     "data": {
      "text/plain": [
       "array([[0.01316509],\n",
       "       [0.01457063],\n",
       "       [0.01748985],\n",
       "       ...,\n",
       "       [0.97658263],\n",
       "       [0.99755134],\n",
       "       [1.        ]])"
      ]
     },
     "execution_count": 35,
     "metadata": {},
     "output_type": "execute_result"
    }
   ],
   "source": [
    "scaled_data"
   ]
  },
  {
   "cell_type": "code",
   "execution_count": 36,
   "metadata": {
    "id": "LJjB2Sz6BPXI"
   },
   "outputs": [],
   "source": [
    "#Create the scaled training data set \n",
    "train_data = scaled_data[0:training_data_len  , : ]\n",
    "#Split the data into x_train and y_train data sets\n",
    "x_train=[]\n",
    "y_train = []\n",
    "for i in range(60,len(train_data)):\n",
    "    x_train.append(train_data[i-60:i,0])\n",
    "    y_train.append(train_data[i,0])"
   ]
  },
  {
   "cell_type": "code",
   "execution_count": 41,
   "metadata": {},
   "outputs": [
    {
     "name": "stdout",
     "output_type": "stream",
     "text": [
      "1603\n"
     ]
    }
   ],
   "source": [
    "print(len(train_data))"
   ]
  },
  {
   "cell_type": "code",
   "execution_count": 37,
   "metadata": {},
   "outputs": [
    {
     "name": "stdout",
     "output_type": "stream",
     "text": [
      "0.01748984839134482\n"
     ]
    }
   ],
   "source": [
    "print(train_data[,0])"
   ]
  },
  {
   "cell_type": "code",
   "execution_count": 38,
   "metadata": {
    "id": "FFJ9kguoBRaJ"
   },
   "outputs": [],
   "source": [
    "#Convert x_train and y_train to numpy arrays\n",
    "x_train, y_train = np.array(x_train), np.array(y_train)"
   ]
  },
  {
   "cell_type": "code",
   "execution_count": 40,
   "metadata": {},
   "outputs": [
    {
     "name": "stdout",
     "output_type": "stream",
     "text": [
      "[0.13949272 0.13293563 0.14507041 ... 0.58926183 0.58164901 0.58939538]\n"
     ]
    }
   ],
   "source": [
    "print(y_train)"
   ]
  },
  {
   "cell_type": "code",
   "execution_count": 12,
   "metadata": {
    "id": "zU7x_BA1BUBu"
   },
   "outputs": [],
   "source": [
    "#Reshape the data into the shape accepted by the LSTM\n",
    "x_train = np.reshape(x_train, (x_train.shape[0],x_train.shape[1],1))"
   ]
  },
  {
   "cell_type": "code",
   "execution_count": 13,
   "metadata": {
    "id": "zBSGf3LJBWZP"
   },
   "outputs": [
    {
     "name": "stderr",
     "output_type": "stream",
     "text": [
      "WARNING: Logging before flag parsing goes to stderr.\n",
      "W0119 20:41:38.888180 33488 deprecation_wrapper.py:119] From c:\\users\\user\\appdata\\local\\programs\\python\\python37\\lib\\site-packages\\keras\\backend\\tensorflow_backend.py:68: The name tf.get_default_graph is deprecated. Please use tf.compat.v1.get_default_graph instead.\n",
      "\n",
      "W0119 20:41:38.979512 33488 deprecation_wrapper.py:119] From c:\\users\\user\\appdata\\local\\programs\\python\\python37\\lib\\site-packages\\keras\\backend\\tensorflow_backend.py:507: The name tf.placeholder is deprecated. Please use tf.compat.v1.placeholder instead.\n",
      "\n",
      "W0119 20:41:38.995501 33488 deprecation_wrapper.py:119] From c:\\users\\user\\appdata\\local\\programs\\python\\python37\\lib\\site-packages\\keras\\backend\\tensorflow_backend.py:3831: The name tf.random_uniform is deprecated. Please use tf.random.uniform instead.\n",
      "\n"
     ]
    }
   ],
   "source": [
    "#Build the LSTM network model\n",
    "model = Sequential()\n",
    "model.add(LSTM(units=50, return_sequences=True,input_shape=(x_train.shape[1],1)))\n",
    "model.add(LSTM(units=50, return_sequences=False))\n",
    "model.add(Dense(units=25))\n",
    "model.add(Dense(units=1))"
   ]
  },
  {
   "cell_type": "code",
   "execution_count": 14,
   "metadata": {
    "id": "OeNw5AeqBYln"
   },
   "outputs": [
    {
     "name": "stderr",
     "output_type": "stream",
     "text": [
      "W0119 20:41:41.373349 33488 deprecation_wrapper.py:119] From c:\\users\\user\\appdata\\local\\programs\\python\\python37\\lib\\site-packages\\keras\\optimizers.py:757: The name tf.train.Optimizer is deprecated. Please use tf.compat.v1.train.Optimizer instead.\n",
      "\n"
     ]
    }
   ],
   "source": [
    "#Compile the model\n",
    "model.compile(optimizer='adam', loss='mean_squared_error')"
   ]
  },
  {
   "cell_type": "code",
   "execution_count": 15,
   "metadata": {
    "id": "xd7QsYgsBa3W"
   },
   "outputs": [
    {
     "name": "stderr",
     "output_type": "stream",
     "text": [
      "W0119 20:41:42.210269 33488 deprecation.py:323] From c:\\users\\user\\appdata\\local\\programs\\python\\python37\\lib\\site-packages\\tensorflow\\python\\ops\\math_grad.py:1250: add_dispatch_support.<locals>.wrapper (from tensorflow.python.ops.array_ops) is deprecated and will be removed in a future version.\n",
      "Instructions for updating:\n",
      "Use tf.where in 2.0, which has the same broadcast rule as np.where\n",
      "W0119 20:41:43.168798 33488 deprecation_wrapper.py:119] From c:\\users\\user\\appdata\\local\\programs\\python\\python37\\lib\\site-packages\\keras\\backend\\tensorflow_backend.py:976: The name tf.assign_add is deprecated. Please use tf.compat.v1.assign_add instead.\n",
      "\n",
      "W0119 20:41:43.278964 33488 deprecation_wrapper.py:119] From c:\\users\\user\\appdata\\local\\programs\\python\\python37\\lib\\site-packages\\keras\\backend\\tensorflow_backend.py:963: The name tf.assign is deprecated. Please use tf.compat.v1.assign instead.\n",
      "\n"
     ]
    },
    {
     "name": "stdout",
     "output_type": "stream",
     "text": [
      "Epoch 1/1\n",
      "1543/1543 [==============================] - 88s 57ms/step - loss: 6.9144e-04\n"
     ]
    },
    {
     "data": {
      "text/plain": [
       "<keras.callbacks.History at 0x1f0a545f988>"
      ]
     },
     "execution_count": 15,
     "metadata": {},
     "output_type": "execute_result"
    }
   ],
   "source": [
    "#Train the model\n",
    "model.fit(x_train, y_train, batch_size=1, epochs=1)"
   ]
  },
  {
   "cell_type": "code",
   "execution_count": 16,
   "metadata": {
    "id": "TRYqhxsrBdFH"
   },
   "outputs": [],
   "source": [
    "#Test data set\n",
    "test_data = scaled_data[training_data_len - 60: , : ]\n",
    "#Create the x_test and y_test data sets\n",
    "x_test = []\n",
    "y_test =  dataset[training_data_len : , : ] #Get all of the rows from index 1603 to the rest and all of the columns (in this case it's only column 'Close'), so 2003 - 1603 = 400 rows of data\n",
    "for i in range(60,len(test_data)):\n",
    "    x_test.append(test_data[i-60:i,0])"
   ]
  },
  {
   "cell_type": "code",
   "execution_count": 47,
   "metadata": {},
   "outputs": [
    {
     "data": {
      "text/plain": [
       "array([[46.74750137],\n",
       "       [46.57749939],\n",
       "       [46.90750122],\n",
       "       [46.79000092],\n",
       "       [47.09000015],\n",
       "       [47.03749847],\n",
       "       [47.14500046],\n",
       "       [46.97499847],\n",
       "       [46.875     ],\n",
       "       [46.71749878],\n",
       "       [47.56000137],\n",
       "       [47.95750046],\n",
       "       [48.32749939],\n",
       "       [48.49499893],\n",
       "       [48.36500168],\n",
       "       [47.92499924],\n",
       "       [47.80749893],\n",
       "       [48.06999969],\n",
       "       [47.67499924],\n",
       "       [47.70000076],\n",
       "       [47.20999908],\n",
       "       [47.18500137],\n",
       "       [46.42250061],\n",
       "       [46.625     ],\n",
       "       [46.36500168],\n",
       "       [46.22999954],\n",
       "       [45.54249954],\n",
       "       [46.10749817],\n",
       "       [46.04000092],\n",
       "       [46.375     ],\n",
       "       [46.27750015],\n",
       "       [46.79499817],\n",
       "       [45.97999954],\n",
       "       [46.34999847],\n",
       "       [46.99250031],\n",
       "       [47.64500046],\n",
       "       [47.58750153],\n",
       "       [46.97000122],\n",
       "       [47.75749969],\n",
       "       [47.83250046],\n",
       "       [47.72750092],\n",
       "       [47.86249924],\n",
       "       [47.59999847],\n",
       "       [47.97000122],\n",
       "       [47.86000061],\n",
       "       [47.90250015],\n",
       "       [48.25      ],\n",
       "       [48.70500183],\n",
       "       [48.55250168],\n",
       "       [47.74499893],\n",
       "       [47.47750092],\n",
       "       [47.57249832],\n",
       "       [50.375     ],\n",
       "       [51.84749985],\n",
       "       [51.99750137],\n",
       "       [52.26750183],\n",
       "       [51.77750015],\n",
       "       [51.8125    ],\n",
       "       [52.22000122],\n",
       "       [51.88249969],\n",
       "       [52.21749878],\n",
       "       [52.4375    ],\n",
       "       [52.56000137],\n",
       "       [53.33000183],\n",
       "       [54.39500046],\n",
       "       [53.86500168],\n",
       "       [53.75999832],\n",
       "       [53.76250076],\n",
       "       [53.87250137],\n",
       "       [54.04000092],\n",
       "       [54.48500061],\n",
       "       [54.92499924],\n",
       "       [55.74499893],\n",
       "       [56.25749969],\n",
       "       [56.90750122],\n",
       "       [57.09000015],\n",
       "       [56.71749878],\n",
       "       [55.77500153],\n",
       "       [55.32500076],\n",
       "       [54.58250046],\n",
       "       [55.96250153],\n",
       "       [55.26750183],\n",
       "       [56.60250092],\n",
       "       [55.95999908],\n",
       "       [54.47000122],\n",
       "       [54.56000137],\n",
       "       [54.59249878],\n",
       "       [55.00749969],\n",
       "       [54.41500092],\n",
       "       [55.19749832],\n",
       "       [55.54750061],\n",
       "       [55.10499954],\n",
       "       [56.23749924],\n",
       "       [56.43500137],\n",
       "       [56.81499863],\n",
       "       [57.31999969],\n",
       "       [58.01750183],\n",
       "       [56.99750137],\n",
       "       [56.07249832],\n",
       "       [55.94250107],\n",
       "       [56.71749878],\n",
       "       [54.09000015],\n",
       "       [53.61249924],\n",
       "       [55.52750015],\n",
       "       [54.34000015],\n",
       "       [55.53749847],\n",
       "       [55.29750061],\n",
       "       [54.00500107],\n",
       "       [54.82749939],\n",
       "       [55.16249847],\n",
       "       [55.68249893],\n",
       "       [53.77249908],\n",
       "       [54.95000076],\n",
       "       [54.07500076],\n",
       "       [53.06000137],\n",
       "       [53.32500076],\n",
       "       [54.71500015],\n",
       "       [55.55500031],\n",
       "       [51.86999893],\n",
       "       [50.39749908],\n",
       "       [50.94250107],\n",
       "       [52.48749924],\n",
       "       [52.12250137],\n",
       "       [51.11750031],\n",
       "       [48.54249954],\n",
       "       [48.05749893],\n",
       "       [46.70000076],\n",
       "       [47.85250092],\n",
       "       [48.38249969],\n",
       "       [46.46500015],\n",
       "       [44.24499893],\n",
       "       [44.19499969],\n",
       "       [43.07249832],\n",
       "       [43.65499878],\n",
       "       [43.56000137],\n",
       "       [45.23500061],\n",
       "       [44.88750076],\n",
       "       [44.64500046],\n",
       "       [46.20500183],\n",
       "       [44.17250061],\n",
       "       [43.68000031],\n",
       "       [42.12250137],\n",
       "       [42.40000153],\n",
       "       [42.15750122],\n",
       "       [42.27500153],\n",
       "       [42.73749924],\n",
       "       [41.36999893],\n",
       "       [40.98500061],\n",
       "       [41.51750183],\n",
       "       [40.22249985],\n",
       "       [39.20750046],\n",
       "       [37.68249893],\n",
       "       [36.70750046],\n",
       "       [39.29249954],\n",
       "       [39.03749847],\n",
       "       [39.05749893],\n",
       "       [39.43500137],\n",
       "       [39.47999954],\n",
       "       [35.54750061],\n",
       "       [37.06499863],\n",
       "       [36.98249817],\n",
       "       [37.6875    ],\n",
       "       [38.32749939],\n",
       "       [38.45000076],\n",
       "       [38.07249832],\n",
       "       [37.5       ],\n",
       "       [38.26750183],\n",
       "       [38.73500061],\n",
       "       [38.96500015],\n",
       "       [39.20500183],\n",
       "       [38.32500076],\n",
       "       [38.47999954],\n",
       "       [38.17499924],\n",
       "       [39.43999863],\n",
       "       [39.07500076],\n",
       "       [38.66999817],\n",
       "       [41.3125    ],\n",
       "       [41.61000061],\n",
       "       [41.63000107],\n",
       "       [42.8125    ],\n",
       "       [43.54499817],\n",
       "       [43.56000137],\n",
       "       [42.73500061],\n",
       "       [42.60250092],\n",
       "       [42.35749817],\n",
       "       [42.72249985],\n",
       "       [42.54499817],\n",
       "       [42.70000076],\n",
       "       [42.60499954],\n",
       "       [42.73249817],\n",
       "       [43.00749969],\n",
       "       [42.76499939],\n",
       "       [43.24250031],\n",
       "       [43.55749893],\n",
       "       [43.58250046],\n",
       "       [43.71749878],\n",
       "       [43.28749847],\n",
       "       [43.74250031],\n",
       "       [43.96250153],\n",
       "       [43.88249969],\n",
       "       [43.63000107],\n",
       "       [43.125     ],\n",
       "       [43.22750092],\n",
       "       [44.72499847],\n",
       "       [45.22750092],\n",
       "       [45.42750168],\n",
       "       [45.93249893],\n",
       "       [46.52999878],\n",
       "       [47.00500107],\n",
       "       [46.63249969],\n",
       "       [47.04000092],\n",
       "       [48.77249908],\n",
       "       [47.76250076],\n",
       "       [47.18500137],\n",
       "       [46.69749832],\n",
       "       [47.11750031],\n",
       "       [47.18000031],\n",
       "       [47.48749924],\n",
       "       [47.81000137],\n",
       "       [48.50500107],\n",
       "       [48.83750153],\n",
       "       [48.92250061],\n",
       "       [49.25      ],\n",
       "       [50.02500153],\n",
       "       [49.875     ],\n",
       "       [50.15499878],\n",
       "       [49.73749924],\n",
       "       [49.71749878],\n",
       "       [49.80749893],\n",
       "       [49.8125    ],\n",
       "       [50.78250122],\n",
       "       [50.96500015],\n",
       "       [51.13249969],\n",
       "       [51.86999893],\n",
       "       [51.79000092],\n",
       "       [51.31999969],\n",
       "       [51.07500076],\n",
       "       [51.15250015],\n",
       "       [50.16749954],\n",
       "       [52.63000107],\n",
       "       [52.28749847],\n",
       "       [52.9375    ],\n",
       "       [52.11999893],\n",
       "       [50.71500015],\n",
       "       [50.72499847],\n",
       "       [50.18000031],\n",
       "       [49.29499817],\n",
       "       [46.43000031],\n",
       "       [47.16500092],\n",
       "       [47.72999954],\n",
       "       [47.52000046],\n",
       "       [47.25      ],\n",
       "       [45.77249908],\n",
       "       [46.65000153],\n",
       "       [45.69499969],\n",
       "       [44.91500092],\n",
       "       [44.74250031],\n",
       "       [44.55749893],\n",
       "       [44.34500122],\n",
       "       [44.57500076],\n",
       "       [43.76750183],\n",
       "       [43.32500076],\n",
       "       [44.90999985],\n",
       "       [45.63499832],\n",
       "       [46.30500031],\n",
       "       [47.53749847],\n",
       "       [48.14500046],\n",
       "       [48.70249939],\n",
       "       [48.54750061],\n",
       "       [48.53749847],\n",
       "       [48.18500137],\n",
       "       [48.47249985],\n",
       "       [49.61249924],\n",
       "       [49.46749878],\n",
       "       [49.86500168],\n",
       "       [49.69499969],\n",
       "       [49.64500046],\n",
       "       [48.89250183],\n",
       "       [49.95000076],\n",
       "       [49.93500137],\n",
       "       [49.47999954],\n",
       "       [50.38750076],\n",
       "       [50.68249893],\n",
       "       [51.10250092],\n",
       "       [51.05749893],\n",
       "       [50.00500107],\n",
       "       [50.31000137],\n",
       "       [50.80749893],\n",
       "       [50.4375    ],\n",
       "       [50.82500076],\n",
       "       [51.30250168],\n",
       "       [51.125     ],\n",
       "       [50.83750153],\n",
       "       [51.41500092],\n",
       "       [50.64749908],\n",
       "       [51.80500031],\n",
       "       [52.20999908],\n",
       "       [52.16749954],\n",
       "       [51.75500107],\n",
       "       [51.93500137],\n",
       "       [52.41999817],\n",
       "       [52.19499969],\n",
       "       [53.25999832],\n",
       "       [52.10749817],\n",
       "       [51.00500107],\n",
       "       [48.33499908],\n",
       "       [49.25      ],\n",
       "       [49.75999832],\n",
       "       [50.85749817],\n",
       "       [50.24750137],\n",
       "       [50.11999893],\n",
       "       [52.24250031],\n",
       "       [50.6875    ],\n",
       "       [50.43500137],\n",
       "       [51.625     ],\n",
       "       [52.58750153],\n",
       "       [52.59000015],\n",
       "       [53.15999985],\n",
       "       [53.11500168],\n",
       "       [50.65999985],\n",
       "       [51.62250137],\n",
       "       [51.04000092],\n",
       "       [51.38249969],\n",
       "       [52.25249863],\n",
       "       [52.18500137],\n",
       "       [51.42499924],\n",
       "       [52.29750061],\n",
       "       [53.31999969],\n",
       "       [53.31499863],\n",
       "       [53.54249954],\n",
       "       [54.17499924],\n",
       "       [55.89749908],\n",
       "       [55.77249908],\n",
       "       [54.6875    ],\n",
       "       [54.97499847],\n",
       "       [55.17499924],\n",
       "       [55.69250107],\n",
       "       [55.24000168],\n",
       "       [54.43249893],\n",
       "       [54.68000031],\n",
       "       [54.41999817],\n",
       "       [55.25749969],\n",
       "       [54.97249985],\n",
       "       [54.70500183],\n",
       "       [55.99250031],\n",
       "       [56.14749908],\n",
       "       [54.74000168],\n",
       "       [55.20500183],\n",
       "       [56.75249863],\n",
       "       [56.76499939],\n",
       "       [56.09999847],\n",
       "       [56.75749969],\n",
       "       [57.52249908],\n",
       "       [59.05250168],\n",
       "       [58.96749878],\n",
       "       [58.83000183],\n",
       "       [58.59249878],\n",
       "       [58.81999969],\n",
       "       [59.10250092],\n",
       "       [60.12749863],\n",
       "       [59.99000168],\n",
       "       [60.79499817],\n",
       "       [60.89500046],\n",
       "       [61.64500046],\n",
       "       [62.26250076],\n",
       "       [60.82249832],\n",
       "       [60.81499863],\n",
       "       [62.18999863],\n",
       "       [63.95500183],\n",
       "       [64.375     ],\n",
       "       [64.28250122],\n",
       "       [64.30999756],\n",
       "       [64.85749817],\n",
       "       [65.03500366],\n",
       "       [65.55000305],\n",
       "       [65.48999786],\n",
       "       [66.11750031],\n",
       "       [65.66000366],\n",
       "       [66.44000244],\n",
       "       [66.77500153],\n",
       "       [66.57250214],\n",
       "       [65.79750061],\n",
       "       [65.50250244],\n",
       "       [65.44499969],\n",
       "       [66.59249878],\n",
       "       [66.07250214],\n",
       "       [66.95999908],\n",
       "       [66.8125    ],\n",
       "       [66.04000092],\n",
       "       [64.86250305],\n",
       "       [65.43499756],\n",
       "       [66.39499664],\n",
       "       [67.67749786],\n",
       "       [66.73000336],\n",
       "       [67.12000275],\n",
       "       [67.69249725],\n",
       "       [67.86499786],\n",
       "       [68.78749847],\n",
       "       [69.96499634],\n",
       "       [70.10250092]])"
      ]
     },
     "execution_count": 47,
     "metadata": {},
     "output_type": "execute_result"
    }
   ],
   "source": [
    "y_test"
   ]
  },
  {
   "cell_type": "code",
   "execution_count": 17,
   "metadata": {
    "id": "ikBLa1sVBfcX"
   },
   "outputs": [],
   "source": [
    "#Convert x_test to a numpy array \n",
    "x_test = np.array(x_test)"
   ]
  },
  {
   "cell_type": "code",
   "execution_count": 18,
   "metadata": {
    "id": "30gllpeOBh1n"
   },
   "outputs": [],
   "source": [
    "#Reshape the data into the shape accepted by the LSTM\n",
    "x_test = np.reshape(x_test, (x_test.shape[0],x_test.shape[1],1))"
   ]
  },
  {
   "cell_type": "code",
   "execution_count": 19,
   "metadata": {
    "id": "-qnpNxwHBk_H"
   },
   "outputs": [],
   "source": [
    "#Getting the models predicted price values\n",
    "predictions = model.predict(x_test) \n",
    "predictions = scaler.inverse_transform(predictions)#Undo scaling"
   ]
  },
  {
   "cell_type": "code",
   "execution_count": 20,
   "metadata": {
    "id": "wuwk1inJBnc_"
   },
   "outputs": [
    {
     "data": {
      "text/plain": [
       "1.3709268051537555"
      ]
     },
     "execution_count": 20,
     "metadata": {},
     "output_type": "execute_result"
    }
   ],
   "source": [
    "#Calculate/Get the value of RMSE\n",
    "rmse=np.sqrt(np.mean(((predictions- y_test)**2)))\n",
    "rmse"
   ]
  },
  {
   "cell_type": "code",
   "execution_count": 21,
   "metadata": {
    "id": "cGu29SDcBptQ"
   },
   "outputs": [
    {
     "name": "stderr",
     "output_type": "stream",
     "text": [
      "c:\\users\\user\\appdata\\local\\programs\\python\\python37\\lib\\site-packages\\ipykernel_launcher.py:4: SettingWithCopyWarning: \n",
      "A value is trying to be set on a copy of a slice from a DataFrame.\n",
      "Try using .loc[row_indexer,col_indexer] = value instead\n",
      "\n",
      "See the caveats in the documentation: https://pandas.pydata.org/pandas-docs/stable/user_guide/indexing.html#returning-a-view-versus-a-copy\n",
      "  after removing the cwd from sys.path.\n"
     ]
    },
    {
     "data": {
      "image/png": "[encoded data removed]",
      "text/plain": [
       "<Figure size 1152x576 with 1 Axes>"
      ]
     },
     "metadata": {},
     "output_type": "display_data"
    }
   ],
   "source": [
    "#Plot/Create the data for the graph\n",
    "train = data[:training_data_len]\n",
    "valid = data[training_data_len:]\n",
    "valid['Predictions'] = predictions\n",
    "#Visualize the data\n",
    "plt.figure(figsize=(16,8))\n",
    "plt.title('Model')\n",
    "plt.xlabel('Date', fontsize=18)\n",
    "plt.ylabel('Close Price USD ($)', fontsize=18)\n",
    "plt.plot(train['Close'])\n",
    "plt.plot(valid[['Close', 'Predictions']])\n",
    "plt.legend(['Train', 'Val', 'Predictions'], loc='lower right')\n",
    "plt.show()"
   ]
  },
  {
   "cell_type": "code",
   "execution_count": 22,
   "metadata": {
    "id": "InNKtU3-BsP7"
   },
   "outputs": [
    {
     "data": {
      "text/html": [
       "<div>\n",
       "<style scoped>\n",
       "    .dataframe tbody tr th:only-of-type {\n",
       "        vertical-align: middle;\n",
       "    }\n",
       "\n",
       "    .dataframe tbody tr th {\n",
       "        vertical-align: top;\n",
       "    }\n",
       "\n",
       "    .dataframe thead th {\n",
       "        text-align: right;\n",
       "    }\n",
       "</style>\n",
       "<table border=\"1\" class=\"dataframe\">\n",
       "  <thead>\n",
       "    <tr style=\"text-align: right;\">\n",
       "      <th></th>\n",
       "      <th>Close</th>\n",
       "      <th>Predictions</th>\n",
       "    </tr>\n",
       "    <tr>\n",
       "      <th>Date</th>\n",
       "      <th></th>\n",
       "      <th></th>\n",
       "    </tr>\n",
       "  </thead>\n",
       "  <tbody>\n",
       "    <tr>\n",
       "      <th>2018-05-17</th>\n",
       "      <td>46.747501</td>\n",
       "      <td>46.947632</td>\n",
       "    </tr>\n",
       "    <tr>\n",
       "      <th>2018-05-18</th>\n",
       "      <td>46.577499</td>\n",
       "      <td>47.003696</td>\n",
       "    </tr>\n",
       "    <tr>\n",
       "      <th>2018-05-21</th>\n",
       "      <td>46.907501</td>\n",
       "      <td>47.005043</td>\n",
       "    </tr>\n",
       "    <tr>\n",
       "      <th>2018-05-22</th>\n",
       "      <td>46.790001</td>\n",
       "      <td>47.035820</td>\n",
       "    </tr>\n",
       "    <tr>\n",
       "      <th>2018-05-23</th>\n",
       "      <td>47.090000</td>\n",
       "      <td>47.057632</td>\n",
       "    </tr>\n",
       "    <tr>\n",
       "      <th>...</th>\n",
       "      <td>...</td>\n",
       "      <td>...</td>\n",
       "    </tr>\n",
       "    <tr>\n",
       "      <th>2019-12-11</th>\n",
       "      <td>67.692497</td>\n",
       "      <td>66.397575</td>\n",
       "    </tr>\n",
       "    <tr>\n",
       "      <th>2019-12-12</th>\n",
       "      <td>67.864998</td>\n",
       "      <td>66.622169</td>\n",
       "    </tr>\n",
       "    <tr>\n",
       "      <th>2019-12-13</th>\n",
       "      <td>68.787498</td>\n",
       "      <td>66.854126</td>\n",
       "    </tr>\n",
       "    <tr>\n",
       "      <th>2019-12-16</th>\n",
       "      <td>69.964996</td>\n",
       "      <td>67.187531</td>\n",
       "    </tr>\n",
       "    <tr>\n",
       "      <th>2019-12-17</th>\n",
       "      <td>70.102501</td>\n",
       "      <td>67.674362</td>\n",
       "    </tr>\n",
       "  </tbody>\n",
       "</table>\n",
       "<p>400 rows × 2 columns</p>\n",
       "</div>"
      ],
      "text/plain": [
       "                Close  Predictions\n",
       "Date                              \n",
       "2018-05-17  46.747501    46.947632\n",
       "2018-05-18  46.577499    47.003696\n",
       "2018-05-21  46.907501    47.005043\n",
       "2018-05-22  46.790001    47.035820\n",
       "2018-05-23  47.090000    47.057632\n",
       "...               ...          ...\n",
       "2019-12-11  67.692497    66.397575\n",
       "2019-12-12  67.864998    66.622169\n",
       "2019-12-13  68.787498    66.854126\n",
       "2019-12-16  69.964996    67.187531\n",
       "2019-12-17  70.102501    67.674362\n",
       "\n",
       "[400 rows x 2 columns]"
      ]
     },
     "execution_count": 22,
     "metadata": {},
     "output_type": "execute_result"
    }
   ],
   "source": [
    "#Show the valid and predicted prices\n",
    "valid"
   ]
  },
  {
   "cell_type": "code",
   "execution_count": 24,
   "metadata": {
    "id": "1laJVeqPBus5"
   },
   "outputs": [
    {
     "name": "stdout",
     "output_type": "stream",
     "text": [
      "[[68.15579]]\n",
      "Date\n",
      "2019-12-17    70.102501\n",
      "2019-12-18    69.934998\n",
      "Name: Close, dtype: float64\n"
     ]
    }
   ],
   "source": [
    "#Get the quote\n",
    "apple_quote = web.DataReader('AAPL', data_source='yahoo', start='2012-01-01', end='2019-12-17')\n",
    "#Create a new dataframe\n",
    "new_df = apple_quote.filter(['Close'])\n",
    "#Get teh last 60 day closing price \n",
    "last_60_days = new_df[-60:].values\n",
    "#Scale the data to be values between 0 and 1\n",
    "last_60_days_scaled = scaler.transform(last_60_days)\n",
    "#Create an empty list\n",
    "X_test = []\n",
    "#Append teh past 60 days\n",
    "X_test.append(last_60_days_scaled)\n",
    "#Convert the X_test data set to a numpy array\n",
    "X_test = np.array(X_test)\n",
    "#Reshape the data\n",
    "X_test = np.reshape(X_test, (X_test.shape[0], X_test.shape[1], 1))\n",
    "#Get the predicted scaled price\n",
    "pred_price = model.predict(X_test)\n",
    "#undo the scaling \n",
    "pred_price = scaler.inverse_transform(pred_price)\n",
    "print(pred_price)\n",
    "#Image for post\n",
    "#The predicted price for 12/18/2019\n",
    "#Now let’s see what the actual price for that day was.\n",
    "#Get the quote\n",
    "apple_quote2 = web.DataReader('AAPL', data_source='yahoo', start='2019-12-18', end='2019-12-18')\n",
    "print(apple_quote2['Close'])"
   ]
  },
  {
   "cell_type": "code",
   "execution_count": null,
   "metadata": {},
   "outputs": [],
   "source": []
  },
  {
   "cell_type": "code",
   "execution_count": null,
   "metadata": {},
   "outputs": [],
   "source": []
  }
 ],
 "metadata": {
  "colab": {
   "name": "Stockmarketprediction-RNN_LSTM.ipynb",
   "provenance": []
  },
  "kernelspec": {
   "display_name": "Python 3",
   "language": "python",
   "name": "python3"
  },
  "language_info": {
   "codemirror_mode": {
    "name": "ipython",
    "version": 3
   },
   "file_extension": ".py",
   "mimetype": "text/x-python",
   "name": "python",
   "nbconvert_exporter": "python",
   "pygments_lexer": "ipython3",
   "version": "3.7.4"
  }
 },
 "nbformat": 4,
 "nbformat_minor": 1
}
